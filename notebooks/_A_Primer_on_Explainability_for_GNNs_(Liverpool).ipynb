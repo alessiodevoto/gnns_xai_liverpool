{
  "nbformat": 4,
  "nbformat_minor": 0,
  "metadata": {
    "colab": {
      "provenance": [],
      "gpuType": "T4",
      "authorship_tag": "ABX9TyMfgYh5PzExMC2k8Th7obFE"
    },
    "kernelspec": {
      "name": "python3",
      "display_name": "Python 3"
    },
    "language_info": {
      "name": "python"
    },
    "accelerator": "GPU"
  },
  "cells": [
    {
      "cell_type": "markdown",
      "source": [
        "# A Primer on Explainability for GNNs\n",
        "\n",
        "**Author**: [Alessio Devoto](https://alessiodevoto.github.io/)\n",
        "\n",
        "This is an introductory tutorial to Explainable AI methods for Graph Neural Networks. It shows an application of [GNNExplainer](https://arxiv.org/abs/1903.03894) and some experiments with [Captum](https://captum.ai/). The notebook is inspired by [Simone Scardapane](https://sscardapane.it/)'s material on GNNs.\n",
        "\n",
        "\n"
      ],
      "metadata": {
        "id": "fVFfNAgTXTk3"
      }
    },
    {
      "cell_type": "markdown",
      "source": [
        "## 1. 🚗 Setup the colab environment"
      ],
      "metadata": {
        "id": "DMw3bMjxXJmu"
      }
    },
    {
      "cell_type": "code",
      "execution_count": null,
      "metadata": {
        "id": "oVE0VxLzWxWn"
      },
      "outputs": [],
      "source": [
        "%%capture\n",
        "!pip install torch_geometric\n",
        "!pip install pyg_lib torch_scatter torch_sparse torch_cluster torch_spline_conv -f https://data.pyg.org/whl/torch-2.0.0+cpu.html\n",
        "!pip install pytorch-lightning captum --quiet"
      ]
    },
    {
      "cell_type": "code",
      "source": [
        "# GPU support\n",
        "# !pip install pyg_lib torch_scatter torch_sparse torch_cluster torch_spline_conv -f https://data.pyg.org/whl/torch-2.0.0+cu118.html\n",
        "# !pip install torch_geometric\n",
        "# !pip install pytorch-lightning captum --quiet"
      ],
      "metadata": {
        "colab": {
          "base_uri": "https://localhost:8080/"
        },
        "id": "_-UoIwd8qPy6",
        "outputId": "03994362-61d4-4a90-f6ad-26b3291a2e1a"
      },
      "execution_count": null,
      "outputs": [
        {
          "output_type": "stream",
          "name": "stdout",
          "text": [
            "\u001b[2K     \u001b[90m━━━━━━━━━━━━━━━━━━━━━━━━━━━━━━━━━━━━━━━\u001b[0m \u001b[32m727.7/727.7 kB\u001b[0m \u001b[31m9.8 MB/s\u001b[0m eta \u001b[36m0:00:00\u001b[0m\n",
            "\u001b[2K     \u001b[90m━━━━━━━━━━━━━━━━━━━━━━━━━━━━━━━━━━━━━━━━\u001b[0m \u001b[32m1.3/1.3 MB\u001b[0m \u001b[31m39.0 MB/s\u001b[0m eta \u001b[36m0:00:00\u001b[0m\n",
            "\u001b[2K     \u001b[90m━━━━━━━━━━━━━━━━━━━━━━━━━━━━━━━━━━━━━━\u001b[0m \u001b[32m764.8/764.8 kB\u001b[0m \u001b[31m44.3 MB/s\u001b[0m eta \u001b[36m0:00:00\u001b[0m\n",
            "\u001b[?25h"
          ]
        }
      ]
    },
    {
      "cell_type": "code",
      "source": [
        "# PyTorch imports\n",
        "import torch\n",
        "from torch.nn import functional as F"
      ],
      "metadata": {
        "id": "snDMNC8dXxsc"
      },
      "execution_count": null,
      "outputs": []
    },
    {
      "cell_type": "code",
      "source": [
        "# PyTorch-related imports\n",
        "import torch_geometric as ptgeom\n",
        "import torch_scatter, torch_sparse\n",
        "import pytorch_lightning as ptlight\n",
        "from pytorch_lightning.loggers import TensorBoardLogger\n",
        "from torchmetrics.functional import accuracy"
      ],
      "metadata": {
        "id": "kxnEIGQqXzHa"
      },
      "execution_count": null,
      "outputs": []
    },
    {
      "cell_type": "code",
      "source": [
        "# Other imports\n",
        "import numpy as np\n",
        "import networkx as nx\n",
        "import matplotlib\n",
        "import matplotlib.pyplot as plt\n",
        "import matplotlib.colors as mcolors\n",
        "from sklearn.model_selection import train_test_split"
      ],
      "metadata": {
        "id": "fbDG7pWtX1uw"
      },
      "execution_count": null,
      "outputs": []
    },
    {
      "cell_type": "code",
      "source": [
        "# PyG explainability\n",
        "from torch_geometric.explain import Explainer, GNNExplainer\n",
        "# Captum\n",
        "from captum.attr import IntegratedGradients\n",
        "from captum.influence import TracInCP, TracInCPFast"
      ],
      "metadata": {
        "id": "rdprI5lopzaw"
      },
      "execution_count": null,
      "outputs": []
    },
    {
      "cell_type": "code",
      "source": [
        "matplotlib.rcParams['figure.dpi'] = 120 # I like higher resolution plots :)"
      ],
      "metadata": {
        "id": "EoV8ZN-BNcMp"
      },
      "execution_count": null,
      "outputs": []
    },
    {
      "cell_type": "code",
      "source": [
        "# We use the usual function for plotting molecules.\n",
        "\n",
        "# This one is copy-pasted from: https://colab.research.google.com/drive/1fLJbFPz0yMCQg81DdCP5I8jXw9LoggKO?usp=sharing\n",
        "import networkx as nx\n",
        "import numpy as np\n",
        "from torch_geometric.utils import to_networkx\n",
        "from matplotlib.pyplot import figure\n",
        "\n",
        "# transform the pytorch geometric graph into networkx format\n",
        "def to_molecule(data: ptgeom.data.Data) -> nx.classes.digraph.DiGraph:\n",
        "    ATOM_MAP = ['C', 'O', 'Cl', 'H', 'N', 'F',\n",
        "                'Br', 'S', 'P', 'I', 'Na', 'K', 'Li', 'Ca']\n",
        "    g = to_networkx(data, node_attrs=['x'])\n",
        "    for u, data in g.nodes(data=True):\n",
        "        data['name'] = ATOM_MAP[data['x'].index(1.0)]\n",
        "        del data['x']\n",
        "    return g\n",
        "\n",
        "# plot the molecule\n",
        "def draw_molecule(g, edge_mask=None, draw_edge_labels=True, draw_node_labels=True, ax=None, figsize=None):\n",
        "    figure(figsize = figsize or (4, 3))\n",
        "\n",
        "    # check if it's been already converted to a nx graph\n",
        "    if not isinstance(g, nx.classes.digraph.DiGraph):\n",
        "      g = to_molecule(g)\n",
        "\n",
        "    g = g.copy().to_undirected()\n",
        "    node_labels = {}\n",
        "    for u, data in g.nodes(data=True):\n",
        "        node_labels[u] = data['name']\n",
        "    pos = nx.planar_layout(g)\n",
        "    pos = nx.spring_layout(g, pos=pos)\n",
        "    if edge_mask is None:\n",
        "        edge_color = 'black'\n",
        "        widths = None\n",
        "    else:\n",
        "        edge_color = [edge_mask[(u, v)] for u, v in g.edges()]\n",
        "        widths = [x * 10 for x in edge_color]\n",
        "    nx.draw(g, pos=pos, labels=node_labels if draw_node_labels else None, width=widths,\n",
        "            edge_color=edge_color, edge_cmap=plt.cm.Blues,\n",
        "            node_color='azure')\n",
        "\n",
        "    if draw_edge_labels and edge_mask is not None:\n",
        "        edge_labels = {k: ('%.2f' % v) for k, v in edge_mask.items()}\n",
        "        nx.draw_networkx_edge_labels(g, pos, edge_labels=edge_labels,\n",
        "                                    font_color='red', ax=ax)\n",
        "\n",
        "    if ax is None:\n",
        "      plt.show()\n"
      ],
      "metadata": {
        "id": "HsqqRmf-dsqI"
      },
      "execution_count": null,
      "outputs": []
    },
    {
      "cell_type": "markdown",
      "source": [
        "## 2. ⏩ Download Data & Train (we did this yesterday already)\n",
        "\n"
      ],
      "metadata": {
        "id": "0abc40IRzied"
      }
    },
    {
      "cell_type": "markdown",
      "source": [
        "In order to explain a model, we first need ... a model 😀.\n",
        "\n",
        "We are going to train the same model as yesterday and store checkpoints in colab.\n",
        "\n",
        "***Simply run all the cells in this section to train the model we will use for our explainers.***\n"
      ],
      "metadata": {
        "id": "Kvquw3nXpF0d"
      }
    },
    {
      "cell_type": "code",
      "source": [
        "# Dataset\n",
        "mutag = ptgeom.datasets.TUDataset(root='.', name='Mutagenicity')\n",
        "\n",
        "# First, we split the original dataset into a training and test spart with a stratified split on the class\n",
        "train_idx, test_idx = train_test_split(range(len(mutag)), stratify=[m.y[0].item() for m in mutag], test_size=0.25, random_state=11)\n",
        "mutag_train = mutag[train_idx]\n",
        "mutag_test = mutag[test_idx]\n",
        "\n",
        "\n",
        "# Build the two loaders\n",
        "train_loader = ptgeom.loader.DataLoader(mutag[train_idx], batch_size=32, shuffle=True)\n",
        "test_loader = ptgeom.loader.DataLoader(mutag[test_idx], batch_size=32)"
      ],
      "metadata": {
        "id": "y8U7zySJXa8j"
      },
      "execution_count": null,
      "outputs": []
    },
    {
      "cell_type": "code",
      "source": [
        "# Define the Pytorch Lightning model\n",
        "\n",
        "train_losses = []\n",
        "eval_accs = []\n",
        "\n",
        "class MUTAGClassifier(ptlight.LightningModule):\n",
        "\n",
        "  def __init__(self, hidden_features: int):\n",
        "    super().__init__()\n",
        "    self.gc1 = ptgeom.nn.GCNConv(mutag.num_features, hidden_features)\n",
        "    self.gc2 = ptgeom.nn.GCNConv(hidden_features, hidden_features)      # two \"hops\" seems enough for these small graphs\n",
        "    self.gc3 = ptgeom.nn.GCNConv(hidden_features, hidden_features)\n",
        "    self.gc4 = ptgeom.nn.GCNConv(hidden_features, hidden_features)\n",
        "    self.pre_head = torch.nn.Linear(hidden_features, hidden_features)\n",
        "    self.head = torch.nn.Linear(hidden_features, 1)                     # binary classification\n",
        "\n",
        "  def forward(self, x, edge_index=None, batch=None, edge_weight=None):\n",
        "\n",
        "    # unwrap the graph if the whole graph was passed\n",
        "    if edge_index is None:\n",
        "      x, edge_index, batch = x.x, x.edge_index, x.batch\n",
        "\n",
        "    # GNN layers\n",
        "    x = self.gc1(x, edge_index, edge_weight)\n",
        "    x = F.relu(x)\n",
        "    x = self.gc2(x, edge_index, edge_weight)\n",
        "    x = F.relu(x)\n",
        "    x = self.gc3(x, edge_index, edge_weight)\n",
        "    x = F.relu(x)\n",
        "    x = self.gc4(x, edge_index, edge_weight)\n",
        "    x = F.relu(x)\n",
        "\n",
        "    x = ptgeom.nn.global_mean_pool(x, batch) # now it's batch_size x embedding_dim\n",
        "    x = F.dropout(x, p=0.5)\n",
        "    x = self.pre_head(x)\n",
        "    logits = self.head(x)\n",
        "\n",
        "    return logits\n",
        "\n",
        "  def configure_optimizers(self):\n",
        "      optimizer = torch.optim.Adam(self.parameters(), lr=1e-4)\n",
        "      return optimizer\n",
        "\n",
        "\n",
        "  def training_step(self, batch, _):\n",
        "\n",
        "      logits = self.forward(batch.x, batch.edge_index, batch.batch)\n",
        "      target = batch.y.unsqueeze(1)\n",
        "      loss = F.binary_cross_entropy_with_logits(logits, target.float())\n",
        "\n",
        "      self.log(\"train_loss\", loss)\n",
        "      self.log(\"train_accuracy\", accuracy(logits, target, task='binary'), prog_bar=True, batch_size=32)\n",
        "      train_losses.append(loss.detach())\n",
        "      return loss\n",
        "\n",
        "  def validation_step(self, batch, _):\n",
        "\n",
        "    logits = self.forward(batch.x, batch.edge_index, batch.batch)\n",
        "    target = batch.y.unsqueeze(1)\n",
        "    loss = F.binary_cross_entropy_with_logits(logits, target.float())\n",
        "\n",
        "    self.log(\"eval_accuracy\", accuracy(logits, target, task='binary'), prog_bar=True, batch_size=32)\n",
        "    eval_accs.append(accuracy(logits, target, task='binary'))\n",
        "\n",
        "model = MUTAGClassifier(hidden_features=256)"
      ],
      "metadata": {
        "id": "b_I8swk500yj"
      },
      "execution_count": null,
      "outputs": []
    },
    {
      "cell_type": "code",
      "source": [
        "# We save checkpoints every 50 epochs\n",
        "checkpoint_callback = ptlight.callbacks.ModelCheckpoint(\n",
        "    dirpath='./checkpoints/',\n",
        "    filename='gnn-v2-{epoch:02d}',\n",
        "    every_n_epochs=50,\n",
        "    save_top_k=-1)"
      ],
      "metadata": {
        "id": "DUP46sbzz5B8"
      },
      "execution_count": null,
      "outputs": []
    },
    {
      "cell_type": "code",
      "source": [
        "# Trainer and logs\n",
        "trainer = ptlight.Trainer(max_epochs=100, callbacks=[checkpoint_callback])\n",
        "\n",
        "# Train\n",
        "trainer.fit(model, train_loader, test_loader)"
      ],
      "metadata": {
        "id": "EEI2lWI_4YM7"
      },
      "execution_count": null,
      "outputs": []
    },
    {
      "cell_type": "code",
      "source": [
        "plt.plot([x.detach().item() for x in train_losses])\n",
        "plt.plot([x.detach().item() for x in eval_accs])"
      ],
      "metadata": {
        "id": "XmJe5kNrrKAo"
      },
      "execution_count": null,
      "outputs": []
    },
    {
      "cell_type": "markdown",
      "source": [
        "## 3. 🤷 Explainability\n",
        "\n",
        "Awesome! Now we have a model to explain.\n",
        "\n",
        "The zoo of explainability techniques for Neural Networks is quite crowded.\n",
        "\n",
        "Before we go on, it is crucial to underline that 'interpretability' is an umbrella term that we use to refer to any method that tries to explain an ML model. Unfortunately, there is not an agreed and shared taxonomy for such methods.\n",
        "\n",
        "The meaning of *explanation* is not universal and depends on the chosen method and on what we are trying to explain.\n",
        "\n",
        "Are we trying to interpret how much a single example is influential for the training? Are we trying to explain how much each input feature affects the the prediction?\n",
        "\n",
        "For an intro to Interpretability, see [this paper](https://arxiv.org/pdf/1606.03490.pdf) or [this book](https://christophm.github.io/interpretable-ml-book/taxonomy-of-interpretability-methods.html).\n",
        "\n",
        "![](https://blog.paperspace.com/content/images/2022/02/recommender.png)\n",
        "\n",
        "\n",
        "Let's go!"
      ],
      "metadata": {
        "id": "4Qwrk3cNre8Y"
      }
    },
    {
      "cell_type": "markdown",
      "source": [
        "### 3.1 GNNExplainer\n",
        "\n",
        "GNNExplainer is a simple method to search for instance-level explanations on a trained GNN. It optimizes for the smallest feature and edge masks that do not vary the prediction of the trained model.\n",
        "\n",
        "See the full explanation in the original paper: https://arxiv.org/pdf/1903.03894.pdf"
      ],
      "metadata": {
        "id": "Ub_8ww7und7e"
      }
    },
    {
      "cell_type": "markdown",
      "source": [
        "As GNNExplainer is an instance-level method, let us first pick a graph and the corresponding prediction."
      ],
      "metadata": {
        "id": "nVBW5hE9C40V"
      }
    },
    {
      "cell_type": "code",
      "source": [
        "# we pick a graph from the mutagenic ones\n",
        "test_mutagenic = [mutag[test_idx[idx]] for idx in range(len(test_idx)) if mutag[test_idx[idx]].y.item() == 0]"
      ],
      "metadata": {
        "id": "a1dIlLulx3ql"
      },
      "execution_count": null,
      "outputs": []
    },
    {
      "cell_type": "code",
      "source": [
        "test_graph = test_mutagenic[0]\n",
        "print(test_graph)"
      ],
      "metadata": {
        "id": "uOe71MCd53lN",
        "colab": {
          "base_uri": "https://localhost:8080/"
        },
        "outputId": "6df763e6-fe7d-48f3-9b8c-7a212de279da"
      },
      "execution_count": null,
      "outputs": [
        {
          "output_type": "stream",
          "name": "stdout",
          "text": [
            "Data(edge_index=[2, 54], x=[25, 14], edge_attr=[54, 3], y=[1])\n"
          ]
        }
      ]
    },
    {
      "cell_type": "code",
      "source": [
        "# we want to explain this graph\n",
        "draw_molecule(test_graph)"
      ],
      "metadata": {
        "id": "TnOErCU2EV-C",
        "colab": {
          "base_uri": "https://localhost:8080/",
          "height": 401
        },
        "outputId": "330e2dbf-682a-4b08-bbd2-fc85c1cbe62a"
      },
      "execution_count": null,
      "outputs": [
        {
          "output_type": "display_data",
          "data": {
            "text/plain": [
              "<Figure size 480x360 with 1 Axes>"
            ],
            "image/png": "[encoded data removed]"
          },
          "metadata": {}
        }
      ]
    },
    {
      "cell_type": "code",
      "source": [
        "# Define the Explainer here\n",
        "# See full API here https://pytorch-geometric.readthedocs.io/en/latest/generated/torch_geometric.explain.algorithm.GNNExplainer.html\n",
        "\n",
        "explainer = Explainer(\n",
        "    algorithm=GNNExplainer(epochs=100),\n",
        "    model = model,\n",
        "    explanation_type = 'model',\n",
        "    node_mask_type = 'object',\n",
        "    edge_mask_type = 'object',\n",
        "    model_config = dict(\n",
        "        mode = 'binary_classification',\n",
        "        task_level = 'graph',\n",
        "        return_type = 'raw'\n",
        "    )\n",
        "  )"
      ],
      "metadata": {
        "id": "v9FG0nP-nhEV"
      },
      "execution_count": null,
      "outputs": []
    },
    {
      "cell_type": "code",
      "source": [
        "# Get the explanation\n",
        "explanation = explainer(x = test_graph.x, edge_index = test_graph.edge_index)"
      ],
      "metadata": {
        "id": "niH5ImDwpVJq"
      },
      "execution_count": null,
      "outputs": []
    },
    {
      "cell_type": "code",
      "source": [
        "# Explanation is just a mask on the edges and nodes. Here we care mostly about the edges\n",
        "explanation"
      ],
      "metadata": {
        "colab": {
          "base_uri": "https://localhost:8080/"
        },
        "id": "ZiuqD_K-qcmb",
        "outputId": "e3c0beb0-bf27-488e-ce94-a8f9e79d3082"
      },
      "execution_count": null,
      "outputs": [
        {
          "output_type": "execute_result",
          "data": {
            "text/plain": [
              "Explanation(node_mask=[25, 1], edge_mask=[54], prediction=[1, 1], target=[1], x=[25, 14], edge_index=[2, 54])"
            ]
          },
          "metadata": {},
          "execution_count": 37
        }
      ]
    },
    {
      "cell_type": "code",
      "source": [
        "mask = explanation.edge_mask\n",
        "mask"
      ],
      "metadata": {
        "colab": {
          "base_uri": "https://localhost:8080/"
        },
        "id": "IR9PX8aHqgGj",
        "outputId": "ba28a518-5422-4b9f-a244-38b194cadead"
      },
      "execution_count": null,
      "outputs": [
        {
          "output_type": "execute_result",
          "data": {
            "text/plain": [
              "tensor([0.2967, 0.3501, 0.2285, 0.3277, 0.3080, 0.1651, 0.3229, 0.3075, 0.7840,\n",
              "        0.3149, 0.2672, 0.7319, 0.2743, 0.2123, 0.2487, 0.2778, 0.7370, 0.3679,\n",
              "        0.2395, 0.4456, 0.8301, 0.3236, 0.6897, 0.2810, 0.2489, 0.2996, 0.2270,\n",
              "        0.1873, 0.2042, 0.1772, 0.8115, 0.7996, 0.2669, 0.1992, 0.7623, 0.1915,\n",
              "        0.1896, 0.5892, 0.2337, 0.8589, 0.6726, 0.7809, 0.7837, 0.7068, 0.7564,\n",
              "        0.6068, 0.5965, 0.3457, 0.2952, 0.7756, 0.7518, 0.7063, 0.6578, 0.8203])"
            ]
          },
          "metadata": {},
          "execution_count": 38
        }
      ]
    },
    {
      "cell_type": "code",
      "source": [
        "# Get the highest values for each edge\n",
        "mask.topk(k=10)"
      ],
      "metadata": {
        "colab": {
          "base_uri": "https://localhost:8080/"
        },
        "id": "NraJEzuXroYu",
        "outputId": "ca117b54-9818-4a85-e1d0-ac966355b4c8"
      },
      "execution_count": null,
      "outputs": [
        {
          "output_type": "execute_result",
          "data": {
            "text/plain": [
              "torch.return_types.topk(\n",
              "values=tensor([0.8589, 0.8301, 0.8203, 0.8115, 0.7996, 0.7840, 0.7837, 0.7809, 0.7756,\n",
              "        0.7623]),\n",
              "indices=tensor([39, 20, 53, 30, 31,  8, 42, 41, 49, 34]))"
            ]
          },
          "metadata": {},
          "execution_count": 39
        }
      ]
    },
    {
      "cell_type": "code",
      "source": [
        "# Create a subgraph from non masked edges\n",
        "subgraph = ptgeom.data.Data(x=test_graph.x, edge_index = test_graph.edge_index[:, mask > 0.8])"
      ],
      "metadata": {
        "id": "JwGLFWS_qiaZ"
      },
      "execution_count": null,
      "outputs": []
    },
    {
      "cell_type": "code",
      "source": [
        "# And remove isolated nodes\n",
        "subgraph = ptgeom.transforms.RemoveIsolatedNodes()(subgraph)"
      ],
      "metadata": {
        "id": "gTV7PNnBrCLa"
      },
      "execution_count": null,
      "outputs": []
    },
    {
      "cell_type": "code",
      "source": [
        "# Plot the explanation\n",
        "draw_molecule(subgraph)"
      ],
      "metadata": {
        "colab": {
          "base_uri": "https://localhost:8080/",
          "height": 401
        },
        "id": "xK3e3n10rLeG",
        "outputId": "de93a027-67a0-43a8-ce1a-8a7807169ce9"
      },
      "execution_count": null,
      "outputs": [
        {
          "output_type": "display_data",
          "data": {
            "text/plain": [
              "<Figure size 480x360 with 1 Axes>"
            ],
            "image/png": "[encoded data removed]"
          },
          "metadata": {}
        }
      ]
    },
    {
      "cell_type": "markdown",
      "source": [
        "### 3.2 💪 Exercise: Saliency for GNNs\n",
        "\n",
        "Can we build a ***home made*** explainer, by just looking at the gradients that flow through the model ?\n",
        "\n",
        "Many  attribution methods leverage the magnitude of the gradients with respect to input features, in order to estimate how important those features are for the output.\n",
        "This is the case of saliency maps in Computer Vision.\n",
        "\n",
        "\n",
        "![](https://www.kitware.com/main/wp-content/uploads/2021/12/Kitware_SailencyImageClassification-1.png)\n",
        "\n",
        "**Can we do the same for graphs ?**\n"
      ],
      "metadata": {
        "id": "G5u-CGXGvE36"
      }
    },
    {
      "cell_type": "markdown",
      "source": [
        "**Exercise:** Build a Saliency Map for `test_graph`.\n",
        "\n",
        "Hint:\n",
        "1. Get the prediction for the `test_graph`\n",
        "2. Compute the gradient wrt the nodes.\n",
        "3. Create a subgraph by filtering out the nodes which have a small gradient (you decide what 'small' means)\n",
        "4. The subgraph will be our explanation!"
      ],
      "metadata": {
        "id": "-RtZvlYYvYmX"
      }
    },
    {
      "cell_type": "code",
      "source": [
        "test_graph"
      ],
      "metadata": {
        "colab": {
          "base_uri": "https://localhost:8080/"
        },
        "id": "uQeoQoTvvLY0",
        "outputId": "9a8d029e-8857-454c-fbb4-0cc6c5f7fdaf"
      },
      "execution_count": null,
      "outputs": [
        {
          "output_type": "execute_result",
          "data": {
            "text/plain": [
              "Data(edge_index=[2, 54], x=[25, 14], edge_attr=[54, 3], y=[1])"
            ]
          },
          "metadata": {},
          "execution_count": 46
        }
      ]
    },
    {
      "cell_type": "code",
      "source": [
        "# Compute prediction\n",
        "out = model(x=test_graph.x.requires_grad_(True), edge_index = test_graph.edge_index)"
      ],
      "metadata": {
        "id": "NhtH0WyPvPqm"
      },
      "execution_count": null,
      "outputs": []
    },
    {
      "cell_type": "code",
      "source": [
        "# Compute gradients\n",
        "out.backward()"
      ],
      "metadata": {
        "id": "9obl686g2Zo7"
      },
      "execution_count": null,
      "outputs": []
    },
    {
      "cell_type": "code",
      "source": [
        "# Get the gradients for the nodes\n",
        "# Notice that the shape of the gradients will be same as that of node features, so you need\n",
        "# rearrange in a nice way\n",
        "gradients = test_graph.x.grad.abs().sum(1)\n",
        "gradients"
      ],
      "metadata": {
        "colab": {
          "base_uri": "https://localhost:8080/"
        },
        "id": "tPIaTwc52bIl",
        "outputId": "ac27bf70-0f88-4370-a752-f163a94ad7d4"
      },
      "execution_count": null,
      "outputs": [
        {
          "output_type": "execute_result",
          "data": {
            "text/plain": [
              "tensor([7.7565, 7.9150, 6.5024, 6.3405, 8.1241, 5.2862, 6.8644, 5.2677, 7.4902,\n",
              "        7.6525, 5.1373, 4.6357, 4.3730, 3.9524, 3.8697, 3.1498, 3.3158, 3.4395,\n",
              "        5.6700, 5.6700, 3.2765, 3.1053, 2.9377, 2.4069, 2.3446])"
            ]
          },
          "metadata": {},
          "execution_count": 50
        }
      ]
    },
    {
      "cell_type": "code",
      "source": [
        "# Select topk nodes with highest value\n",
        "# Hint: use torch.topk() method\n",
        "vals, idcs = gradients.topk(k=6)"
      ],
      "metadata": {
        "id": "TuZ57BGzBunv"
      },
      "execution_count": null,
      "outputs": []
    },
    {
      "cell_type": "code",
      "source": [
        "# Create a new subgraph from the topk nodes\n",
        "# Hint: https://pytorch-geometric.readthedocs.io/en/2.0.3/modules/utils.html#torch_geometric.utils.subgraph\n",
        "new_edge_indx, _ = ptgeom.utils.subgraph(subset=idcs, edge_index=test_graph.edge_index, relabel_nodes=True)\n",
        "new_edge_indx"
      ],
      "metadata": {
        "colab": {
          "base_uri": "https://localhost:8080/"
        },
        "id": "r6mWzzreCMrT",
        "outputId": "69565e52-dfac-4976-e14d-8c031c16ca60"
      },
      "execution_count": null,
      "outputs": [
        {
          "output_type": "execute_result",
          "data": {
            "text/plain": [
              "tensor([[2, 1, 1, 0, 0, 5, 3, 3],\n",
              "        [1, 2, 0, 1, 3, 3, 0, 5]])"
            ]
          },
          "metadata": {},
          "execution_count": 52
        }
      ]
    },
    {
      "cell_type": "code",
      "source": [
        "# Draw the explanation\n",
        "expl = ptgeom.data.Data(x=test_graph.x[idcs], edge_index=new_edge_indx)\n",
        "draw_molecule(expl)"
      ],
      "metadata": {
        "colab": {
          "base_uri": "https://localhost:8080/",
          "height": 401
        },
        "id": "pW64n6kSCo37",
        "outputId": "2ee9df27-df1c-4bcf-8531-6ec5346c5399"
      },
      "execution_count": null,
      "outputs": [
        {
          "output_type": "display_data",
          "data": {
            "text/plain": [
              "<Figure size 480x360 with 1 Axes>"
            ],
            "image/png": "[encoded data removed]"
          },
          "metadata": {}
        }
      ]
    },
    {
      "cell_type": "markdown",
      "source": [
        "### 3.2 Integrated gradients\n",
        "\n",
        "[Integrated gradients](https://arxiv.org/abs/1703.01365) is a model-agnostic instance-level interpretability method.\n",
        "\n",
        "The [idea](https://medium.com/@kemalpiro/xai-methods-integrated-gradients-6ee1fe4120d8) of Integrated Gradients is to integrate a \"saliency vector\" moving from a graph with no connectivity to our actual graph. As we interpolate from the initial empty graph to our test graph, we will observe the gradient with respect to some of the features changes more, meaning those features are more important for the classification.\n",
        "\n",
        "![](https://captum.ai/img/IG_eq1.png)\n",
        "\n",
        "We will use [Captum](https://captum.ai/), a library which offers a rich toolset of explainable AI methods."
      ],
      "metadata": {
        "id": "UM3Bw6TCudSm"
      }
    },
    {
      "cell_type": "code",
      "source": [
        "test_graph"
      ],
      "metadata": {
        "colab": {
          "base_uri": "https://localhost:8080/"
        },
        "id": "rXQrsxUu6YvF",
        "outputId": "2449a0bf-a25b-4667-ec1a-b453793142b2"
      },
      "execution_count": null,
      "outputs": [
        {
          "output_type": "execute_result",
          "data": {
            "text/plain": [
              "Data(edge_index=[2, 54], x=[25, 14], edge_attr=[54, 3], y=[1])"
            ]
          },
          "metadata": {},
          "execution_count": 54
        }
      ]
    },
    {
      "cell_type": "code",
      "source": [
        "batch_idx = torch.zeros(test_graph.x.shape[0], dtype=torch.int64) # All nodes belong to the same graph\n",
        "\n",
        "# Initialize the edge mask\n",
        "edge_mask = torch.ones(test_graph.edge_index.shape[1]).unsqueeze(0).requires_grad_(True)\n",
        "baseline = torch.zeros_like(edge_mask)\n",
        "\n"
      ],
      "metadata": {
        "id": "01v69zdluiPK"
      },
      "execution_count": null,
      "outputs": []
    },
    {
      "cell_type": "code",
      "source": [
        "# We just define a custom function whose input is the edge mask\n",
        "\n",
        "model.eval()\n",
        "def model_forward(edge_mask):\n",
        "    out = model(test_graph.x, test_graph.edge_index, batch_idx, edge_weight=edge_mask[0])\n",
        "    return out"
      ],
      "metadata": {
        "id": "Iu-rKd4V5qoh"
      },
      "execution_count": null,
      "outputs": []
    },
    {
      "cell_type": "code",
      "source": [
        "# Define integrated gradients https://captum.ai/api/integrated_gradients.html\n",
        "ig = IntegratedGradients(model_forward)"
      ],
      "metadata": {
        "id": "GCZZq_Dr6i9Z"
      },
      "execution_count": null,
      "outputs": []
    },
    {
      "cell_type": "code",
      "source": [
        "# Compute attribution\n",
        "mask = ig.attribute(edge_mask, n_steps=100, internal_batch_size=1)"
      ],
      "metadata": {
        "id": "FdmcpQrq6nfo"
      },
      "execution_count": null,
      "outputs": []
    },
    {
      "cell_type": "code",
      "source": [
        "# This is identical to before, using the new mask\n",
        "explanation = ptgeom.data.Data(test_graph.x, test_graph.edge_index[:, mask[0] > 0.1])\n",
        "explanation = ptgeom.transforms.RemoveIsolatedNodes()(ptgeom.transforms.ToUndirected()(explanation))\n",
        "explanation"
      ],
      "metadata": {
        "colab": {
          "base_uri": "https://localhost:8080/"
        },
        "id": "3dC5mnhy6tyq",
        "outputId": "c085b7c7-224c-4320-b8fb-7b04e3d7264e"
      },
      "execution_count": null,
      "outputs": [
        {
          "output_type": "execute_result",
          "data": {
            "text/plain": [
              "Data(x=[25, 14], edge_index=[2, 38])"
            ]
          },
          "metadata": {},
          "execution_count": 59
        }
      ]
    },
    {
      "cell_type": "code",
      "source": [
        "draw_molecule(explanation)"
      ],
      "metadata": {
        "colab": {
          "base_uri": "https://localhost:8080/",
          "height": 401
        },
        "id": "Ggr78IYW66zi",
        "outputId": "02290697-c2e3-475a-95f0-447de35065d9"
      },
      "execution_count": null,
      "outputs": [
        {
          "output_type": "display_data",
          "data": {
            "text/plain": [
              "<Figure size 480x360 with 1 Axes>"
            ],
            "image/png": "[encoded data removed]"
          },
          "metadata": {}
        }
      ]
    },
    {
      "cell_type": "markdown",
      "source": [
        "### 3.3 TracIn\n",
        "\n",
        "[TracIn](https://arxiv.org/pdf/2002.08484.pdf) is an explanbility method which computes the influence of training examples on the prediction of test examples.\n",
        "\n",
        "As you probably noticed, the goal of TracIn is quite different from the one of the other intepretability methods we saw so far.\n",
        "\n",
        "The main idea behind TracIn is to compute how much the prediction accuracy for a test graph changes when we train the model on a specific train graph."
      ],
      "metadata": {
        "id": "EiSkz0plD20N"
      }
    },
    {
      "cell_type": "code",
      "source": [
        "# We are going to need those checkpoints\n",
        "!ls checkpoints"
      ],
      "metadata": {
        "id": "bvDf_N68D2g6",
        "colab": {
          "base_uri": "https://localhost:8080/"
        },
        "outputId": "63d4dd4f-375c-473d-d565-e8130e87ca0e"
      },
      "execution_count": null,
      "outputs": [
        {
          "output_type": "stream",
          "name": "stdout",
          "text": [
            "'gnn-epoch=49.ckpt'\t'gnn-epoch=99.ckpt'\t'gnn-v2-epoch=99.ckpt'\n",
            "'gnn-epoch=49-v1.ckpt'\t'gnn-epoch=99-v1.ckpt'\n",
            "'gnn-epoch=49-v2.ckpt'\t'gnn-v2-epoch=49.ckpt'\n"
          ]
        }
      ]
    },
    {
      "cell_type": "code",
      "source": [
        "checkpoints = ['checkpoints/gnn-v2-epoch=49.ckpt' , 'checkpoints/gnn-v2-epoch=99.ckpt']"
      ],
      "metadata": {
        "id": "oG3oW7LahCZ7"
      },
      "execution_count": null,
      "outputs": []
    },
    {
      "cell_type": "code",
      "source": [
        "# We only compute the gradients for the last layer parameters\n",
        "params_shape = model.head.weight.shape[1]\n",
        "params_shape"
      ],
      "metadata": {
        "id": "vV8R5EnRhEw1",
        "colab": {
          "base_uri": "https://localhost:8080/"
        },
        "outputId": "f034a81b-97a0-4cd9-c388-46ffaf6c94af"
      },
      "execution_count": null,
      "outputs": [
        {
          "output_type": "execute_result",
          "data": {
            "text/plain": [
              "256"
            ]
          },
          "metadata": {},
          "execution_count": 80
        }
      ]
    },
    {
      "cell_type": "code",
      "source": [
        "# We will store the gradients here\n",
        "\n",
        "test_grads = torch.zeros(len(checkpoints), params_shape)\n",
        "train_grads = torch.zeros(len(train_idx), len(checkpoints), params_shape)"
      ],
      "metadata": {
        "id": "vFdgaRM1hobx"
      },
      "execution_count": null,
      "outputs": []
    },
    {
      "cell_type": "code",
      "source": [
        "# Compute gradient at checkpints for test sample\n",
        "\n",
        "for i in range(len(checkpoints)):\n",
        "\n",
        "  # Load checkpoint\n",
        "  ckpt = torch.load(checkpoints[i])\n",
        "  model.load_state_dict(ckpt['state_dict'])\n",
        "  model.eval()\n",
        "\n",
        "  # Compute gradients\n",
        "  out = model(test_graph)\n",
        "  grad = torch.autograd.grad(out, model.head.weight)[0]\n",
        "\n",
        "\n",
        "  test_grads[i] = grad"
      ],
      "metadata": {
        "id": "aL8dRwCmihsQ"
      },
      "execution_count": null,
      "outputs": []
    },
    {
      "cell_type": "code",
      "source": [
        "# Compute gradient at checkpoints for train samples\n",
        "\n",
        "for i in range(len(checkpoints)):\n",
        "\n",
        "  # Load checkpoint\n",
        "  ckpt = torch.load(checkpoints[i])\n",
        "  model.load_state_dict(ckpt['state_dict'])\n",
        "  model.eval()\n",
        "\n",
        "  # Compute gradients for each graph\n",
        "  for sample in range(len(train_idx)):\n",
        "\n",
        "    out = model(mutag_train[i].x, mutag_train[i].edge_index)\n",
        "    grad = torch.autograd.grad(out, model.head.weight)[0]\n",
        "\n",
        "    train_grads[sample][i] = grad"
      ],
      "metadata": {
        "id": "JXuKN9bvjKuH"
      },
      "execution_count": null,
      "outputs": []
    },
    {
      "cell_type": "code",
      "source": [
        "# Compute TracIn scores\n",
        "\n",
        "# test_grads  ( , 2, 256)\n",
        "# train_grads (n, 2, 256 )\n",
        "\n",
        "relevance = (train_grads * test_grads).sum([1,2])"
      ],
      "metadata": {
        "id": "UwkI5b-UkB7p"
      },
      "execution_count": null,
      "outputs": []
    },
    {
      "cell_type": "code",
      "source": [
        "# Which training graphs were the most influential ?\n",
        "\n",
        "_, proponents_indices = relevance.topk(k=3, largest=True)\n",
        "_, opponents_indices = relevance.topk(k=3, largest=False)"
      ],
      "metadata": {
        "id": "tC92KgqHkibg"
      },
      "execution_count": null,
      "outputs": []
    },
    {
      "cell_type": "code",
      "source": [
        "print('Label:', test_graph.y.item())\n",
        "draw_molecule(test_graph)"
      ],
      "metadata": {
        "id": "54Uzq61Mk4Yu",
        "colab": {
          "base_uri": "https://localhost:8080/",
          "height": 418
        },
        "outputId": "779bbd5f-722d-41d0-ca34-13ed47f7be9e"
      },
      "execution_count": null,
      "outputs": [
        {
          "output_type": "stream",
          "name": "stdout",
          "text": [
            "Label: 0\n"
          ]
        },
        {
          "output_type": "display_data",
          "data": {
            "text/plain": [
              "<Figure size 480x360 with 1 Axes>"
            ],
            "image/png": "[encoded data removed]"
          },
          "metadata": {}
        }
      ]
    },
    {
      "cell_type": "code",
      "source": [
        "for p in proponents_indices:\n",
        "  print(p)\n",
        "  print('Label:', mutag_train[p].y.item())\n",
        "  draw_molecule(mutag_train[p], figsize=(3,2))"
      ],
      "metadata": {
        "id": "Jnyu44eKk7bY",
        "colab": {
          "base_uri": "https://localhost:8080/",
          "height": 913
        },
        "outputId": "308f35db-8361-46eb-af0f-7142af1c9c32"
      },
      "execution_count": null,
      "outputs": [
        {
          "output_type": "stream",
          "name": "stdout",
          "text": [
            "tensor(857)\n",
            "Label: 1\n"
          ]
        },
        {
          "output_type": "display_data",
          "data": {
            "text/plain": [
              "<Figure size 360x240 with 1 Axes>"
            ],
            "image/png": "[encoded data removed]"
          },
          "metadata": {}
        },
        {
          "output_type": "stream",
          "name": "stdout",
          "text": [
            "tensor(2737)\n",
            "Label: 1\n"
          ]
        },
        {
          "output_type": "display_data",
          "data": {
            "text/plain": [
              "<Figure size 360x240 with 1 Axes>"
            ],
            "image/png": "[encoded data removed]"
          },
          "metadata": {}
        },
        {
          "output_type": "stream",
          "name": "stdout",
          "text": [
            "tensor(681)\n",
            "Label: 1\n"
          ]
        },
        {
          "output_type": "display_data",
          "data": {
            "text/plain": [
              "<Figure size 360x240 with 1 Axes>"
            ],
            "image/png": "[encoded data removed]"
          },
          "metadata": {}
        }
      ]
    },
    {
      "cell_type": "code",
      "source": [
        "for o in opponents_indices:\n",
        "  print('Label:', mutag_train[o].y.item())\n",
        "  draw_molecule(mutag_train[o], figsize=(3,2))"
      ],
      "metadata": {
        "id": "VAKW81TFlGsj",
        "colab": {
          "base_uri": "https://localhost:8080/",
          "height": 861
        },
        "outputId": "3df0369c-20f2-4b54-9ba4-d68d6a56e375"
      },
      "execution_count": null,
      "outputs": [
        {
          "output_type": "stream",
          "name": "stdout",
          "text": [
            "Label: 0\n"
          ]
        },
        {
          "output_type": "display_data",
          "data": {
            "text/plain": [
              "<Figure size 360x240 with 1 Axes>"
            ],
            "image/png": "[encoded data removed]"
          },
          "metadata": {}
        },
        {
          "output_type": "stream",
          "name": "stdout",
          "text": [
            "Label: 1\n"
          ]
        },
        {
          "output_type": "display_data",
          "data": {
            "text/plain": [
              "<Figure size 360x240 with 1 Axes>"
            ],
            "image/png": "[encoded data removed]"
          },
          "metadata": {}
        },
        {
          "output_type": "stream",
          "name": "stdout",
          "text": [
            "Label: 1\n"
          ]
        },
        {
          "output_type": "display_data",
          "data": {
            "text/plain": [
              "<Figure size 360x240 with 1 Axes>"
            ],
            "image/png": "[encoded data removed]"
          },
          "metadata": {}
        }
      ]
    },
    {
      "cell_type": "code",
      "source": [],
      "metadata": {
        "id": "weulHpq0gf4-"
      },
      "execution_count": null,
      "outputs": []
    }
  ]
}